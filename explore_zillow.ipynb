{
 "cells": [
  {
   "cell_type": "markdown",
   "id": "e4b46ec5",
   "metadata": {},
   "source": [
    "# Clustering (Unsupervised Learning)\n",
    "\n",
    "# Exploratory Data Analysis"
   ]
  },
  {
   "cell_type": "markdown",
   "id": "3152b1cf",
   "metadata": {},
   "source": [
    "## Exercise\n",
    "\n",
    "### Ask at least 5 questions about the data, keeping in mind that your target variable is logerror. e.g. Is logerror significantly different for properties in LA County vs Orange County vs Ventura County?\n",
    "\n",
    "### Answer those questions through a mix of statistical tests and visualizations."
   ]
  },
  {
   "cell_type": "code",
   "execution_count": 1,
   "id": "0e04c8ac",
   "metadata": {},
   "outputs": [],
   "source": [
    "# Library imports\n",
    "\n",
    "# Visualizations & Wranglings\n",
    "import pandas as pd\n",
    "import matplotlib.pyplot as plt\n",
    "import seaborn as sns \n",
    "from sklearn.model_selection import train_test_split\n",
    "\n",
    "# Import the prepapre and acquire modules\n",
    "import acquire\n",
    "import prepare\n",
    "from prepare import get_exploration_data, get_zillow, get_modeling_data, scale_zillow, prepare_zillow\n",
    "\n",
    "# Statistical Tests\n",
    "import scipy.stats as stats\n",
    "from scipy.stats import levene\n",
    "\n",
    "\n",
    "# Ignore warnings\n",
    "import warnings\n",
    "warnings.filterwarnings('ignore')\n"
   ]
  },
  {
   "cell_type": "markdown",
   "id": "fcf253d1",
   "metadata": {},
   "source": [
    "### Get and rename Overall zillow data columns"
   ]
  },
  {
   "cell_type": "code",
   "execution_count": 2,
   "id": "f00c0f2e",
   "metadata": {},
   "outputs": [
    {
     "name": "stdout",
     "output_type": "stream",
     "text": [
      "Status: Acquiring data from cached csv file..\n"
     ]
    },
    {
     "data": {
      "text/html": [
       "<div>\n",
       "<style scoped>\n",
       "    .dataframe tbody tr th:only-of-type {\n",
       "        vertical-align: middle;\n",
       "    }\n",
       "\n",
       "    .dataframe tbody tr th {\n",
       "        vertical-align: top;\n",
       "    }\n",
       "\n",
       "    .dataframe thead th {\n",
       "        text-align: right;\n",
       "    }\n",
       "</style>\n",
       "<table border=\"1\" class=\"dataframe\">\n",
       "  <thead>\n",
       "    <tr style=\"text-align: right;\">\n",
       "      <th></th>\n",
       "      <th>id</th>\n",
       "      <th>parcel_id</th>\n",
       "      <th>air_cond_id</th>\n",
       "      <th>architect_style_id</th>\n",
       "      <th>basement_sqft</th>\n",
       "      <th>bath_count</th>\n",
       "      <th>bed_count</th>\n",
       "      <th>building_class_id</th>\n",
       "      <th>building_quality_id</th>\n",
       "      <th>calc_bath_n_bed</th>\n",
       "      <th>...</th>\n",
       "      <th>census_tract_and_block</th>\n",
       "      <th>log_error</th>\n",
       "      <th>transaction_date</th>\n",
       "      <th>construction_desc</th>\n",
       "      <th>story_desc</th>\n",
       "      <th>property_land_use_desc</th>\n",
       "      <th>heating_or_system_desc</th>\n",
       "      <th>bldg_class_desc</th>\n",
       "      <th>architect_style_desc</th>\n",
       "      <th>air_con_desc</th>\n",
       "    </tr>\n",
       "  </thead>\n",
       "  <tbody>\n",
       "    <tr>\n",
       "      <th>0</th>\n",
       "      <td>787</td>\n",
       "      <td>17173851</td>\n",
       "      <td>NaN</td>\n",
       "      <td>NaN</td>\n",
       "      <td>NaN</td>\n",
       "      <td>2.0</td>\n",
       "      <td>4.0</td>\n",
       "      <td>NaN</td>\n",
       "      <td>NaN</td>\n",
       "      <td>2.0</td>\n",
       "      <td>...</td>\n",
       "      <td>6.111004e+13</td>\n",
       "      <td>0.088469</td>\n",
       "      <td>2017-01-03</td>\n",
       "      <td>NaN</td>\n",
       "      <td>NaN</td>\n",
       "      <td>Single Family Residential</td>\n",
       "      <td>NaN</td>\n",
       "      <td>NaN</td>\n",
       "      <td>NaN</td>\n",
       "      <td>NaN</td>\n",
       "    </tr>\n",
       "    <tr>\n",
       "      <th>1</th>\n",
       "      <td>1702</td>\n",
       "      <td>10821119</td>\n",
       "      <td>NaN</td>\n",
       "      <td>NaN</td>\n",
       "      <td>NaN</td>\n",
       "      <td>2.0</td>\n",
       "      <td>2.0</td>\n",
       "      <td>NaN</td>\n",
       "      <td>6.0</td>\n",
       "      <td>2.0</td>\n",
       "      <td>...</td>\n",
       "      <td>6.037131e+13</td>\n",
       "      <td>0.025629</td>\n",
       "      <td>2017-01-03</td>\n",
       "      <td>NaN</td>\n",
       "      <td>NaN</td>\n",
       "      <td>Single Family Residential</td>\n",
       "      <td>Central</td>\n",
       "      <td>NaN</td>\n",
       "      <td>NaN</td>\n",
       "      <td>NaN</td>\n",
       "    </tr>\n",
       "  </tbody>\n",
       "</table>\n",
       "<p>2 rows × 68 columns</p>\n",
       "</div>"
      ],
      "text/plain": [
       "     id  parcel_id  air_cond_id  architect_style_id  basement_sqft  \\\n",
       "0   787   17173851          NaN                 NaN            NaN   \n",
       "1  1702   10821119          NaN                 NaN            NaN   \n",
       "\n",
       "   bath_count  bed_count  building_class_id  building_quality_id  \\\n",
       "0         2.0        4.0                NaN                  NaN   \n",
       "1         2.0        2.0                NaN                  6.0   \n",
       "\n",
       "   calc_bath_n_bed  ...  census_tract_and_block  log_error  transaction_date  \\\n",
       "0              2.0  ...            6.111004e+13   0.088469        2017-01-03   \n",
       "1              2.0  ...            6.037131e+13   0.025629        2017-01-03   \n",
       "\n",
       "   construction_desc  story_desc     property_land_use_desc  \\\n",
       "0                NaN         NaN  Single Family Residential   \n",
       "1                NaN         NaN  Single Family Residential   \n",
       "\n",
       "   heating_or_system_desc  bldg_class_desc  architect_style_desc  air_con_desc  \n",
       "0                     NaN              NaN                   NaN           NaN  \n",
       "1                 Central              NaN                   NaN           NaN  \n",
       "\n",
       "[2 rows x 68 columns]"
      ]
     },
     "execution_count": 2,
     "metadata": {},
     "output_type": "execute_result"
    }
   ],
   "source": [
    "zillow = prepare_zillow()\n",
    "zillow.head(2)"
   ]
  },
  {
   "cell_type": "markdown",
   "id": "f98c4333",
   "metadata": {},
   "source": [
    "#### Acquire Exploration Zillow Data"
   ]
  },
  {
   "cell_type": "code",
   "execution_count": 6,
   "id": "75e28e11",
   "metadata": {},
   "outputs": [
    {
     "name": "stdout",
     "output_type": "stream",
     "text": [
      "Status: Acquiring data from cached csv file..\n"
     ]
    }
   ],
   "source": [
    "train = get_exploration_data()"
   ]
  },
  {
   "cell_type": "code",
   "execution_count": 7,
   "id": "7fc534c3",
   "metadata": {},
   "outputs": [
    {
     "data": {
      "text/html": [
       "<div>\n",
       "<style scoped>\n",
       "    .dataframe tbody tr th:only-of-type {\n",
       "        vertical-align: middle;\n",
       "    }\n",
       "\n",
       "    .dataframe tbody tr th {\n",
       "        vertical-align: top;\n",
       "    }\n",
       "\n",
       "    .dataframe thead th {\n",
       "        text-align: right;\n",
       "    }\n",
       "</style>\n",
       "<table border=\"1\" class=\"dataframe\">\n",
       "  <thead>\n",
       "    <tr style=\"text-align: right;\">\n",
       "      <th></th>\n",
       "      <th>id</th>\n",
       "      <th>parcel_id</th>\n",
       "      <th>air_cond_id</th>\n",
       "      <th>architect_style_id</th>\n",
       "      <th>basement_sqft</th>\n",
       "      <th>bath_count</th>\n",
       "      <th>bed_count</th>\n",
       "      <th>building_class_id</th>\n",
       "      <th>building_quality_id</th>\n",
       "      <th>calc_bath_n_bed</th>\n",
       "      <th>...</th>\n",
       "      <th>census_tract_and_block</th>\n",
       "      <th>log_error</th>\n",
       "      <th>transaction_date</th>\n",
       "      <th>construction_desc</th>\n",
       "      <th>story_desc</th>\n",
       "      <th>property_land_use_desc</th>\n",
       "      <th>heating_or_system_desc</th>\n",
       "      <th>bldg_class_desc</th>\n",
       "      <th>architect_style_desc</th>\n",
       "      <th>air_con_desc</th>\n",
       "    </tr>\n",
       "  </thead>\n",
       "  <tbody>\n",
       "    <tr>\n",
       "      <th>1006346</th>\n",
       "      <td>2316322</td>\n",
       "      <td>11789767</td>\n",
       "      <td>NaN</td>\n",
       "      <td>NaN</td>\n",
       "      <td>NaN</td>\n",
       "      <td>0.0</td>\n",
       "      <td>0.0</td>\n",
       "      <td>NaN</td>\n",
       "      <td>NaN</td>\n",
       "      <td>NaN</td>\n",
       "      <td>...</td>\n",
       "      <td>6.037209e+13</td>\n",
       "      <td>NaN</td>\n",
       "      <td>NaN</td>\n",
       "      <td>NaN</td>\n",
       "      <td>NaN</td>\n",
       "      <td>Duplex (2 Units, Any Combination)</td>\n",
       "      <td>NaN</td>\n",
       "      <td>NaN</td>\n",
       "      <td>NaN</td>\n",
       "      <td>NaN</td>\n",
       "    </tr>\n",
       "    <tr>\n",
       "      <th>984661</th>\n",
       "      <td>1617555</td>\n",
       "      <td>12280373</td>\n",
       "      <td>NaN</td>\n",
       "      <td>NaN</td>\n",
       "      <td>NaN</td>\n",
       "      <td>1.0</td>\n",
       "      <td>2.0</td>\n",
       "      <td>NaN</td>\n",
       "      <td>4.0</td>\n",
       "      <td>1.0</td>\n",
       "      <td>...</td>\n",
       "      <td>6.037542e+13</td>\n",
       "      <td>NaN</td>\n",
       "      <td>NaN</td>\n",
       "      <td>NaN</td>\n",
       "      <td>NaN</td>\n",
       "      <td>Single Family Residential</td>\n",
       "      <td>Floor/Wall</td>\n",
       "      <td>NaN</td>\n",
       "      <td>NaN</td>\n",
       "      <td>NaN</td>\n",
       "    </tr>\n",
       "    <tr>\n",
       "      <th>1192843</th>\n",
       "      <td>2312258</td>\n",
       "      <td>17239546</td>\n",
       "      <td>NaN</td>\n",
       "      <td>NaN</td>\n",
       "      <td>NaN</td>\n",
       "      <td>2.5</td>\n",
       "      <td>4.0</td>\n",
       "      <td>NaN</td>\n",
       "      <td>NaN</td>\n",
       "      <td>2.5</td>\n",
       "      <td>...</td>\n",
       "      <td>6.111008e+13</td>\n",
       "      <td>NaN</td>\n",
       "      <td>NaN</td>\n",
       "      <td>NaN</td>\n",
       "      <td>NaN</td>\n",
       "      <td>Single Family Residential</td>\n",
       "      <td>NaN</td>\n",
       "      <td>NaN</td>\n",
       "      <td>NaN</td>\n",
       "      <td>NaN</td>\n",
       "    </tr>\n",
       "  </tbody>\n",
       "</table>\n",
       "<p>3 rows × 68 columns</p>\n",
       "</div>"
      ],
      "text/plain": [
       "              id  parcel_id  air_cond_id  architect_style_id  basement_sqft  \\\n",
       "1006346  2316322   11789767          NaN                 NaN            NaN   \n",
       "984661   1617555   12280373          NaN                 NaN            NaN   \n",
       "1192843  2312258   17239546          NaN                 NaN            NaN   \n",
       "\n",
       "         bath_count  bed_count  building_class_id  building_quality_id  \\\n",
       "1006346         0.0        0.0                NaN                  NaN   \n",
       "984661          1.0        2.0                NaN                  4.0   \n",
       "1192843         2.5        4.0                NaN                  NaN   \n",
       "\n",
       "         calc_bath_n_bed  ...  census_tract_and_block  log_error  \\\n",
       "1006346              NaN  ...            6.037209e+13        NaN   \n",
       "984661               1.0  ...            6.037542e+13        NaN   \n",
       "1192843              2.5  ...            6.111008e+13        NaN   \n",
       "\n",
       "         transaction_date  construction_desc  story_desc  \\\n",
       "1006346               NaN                NaN         NaN   \n",
       "984661                NaN                NaN         NaN   \n",
       "1192843               NaN                NaN         NaN   \n",
       "\n",
       "                    property_land_use_desc  heating_or_system_desc  \\\n",
       "1006346  Duplex (2 Units, Any Combination)                     NaN   \n",
       "984661           Single Family Residential              Floor/Wall   \n",
       "1192843          Single Family Residential                     NaN   \n",
       "\n",
       "         bldg_class_desc  architect_style_desc  air_con_desc  \n",
       "1006346              NaN                   NaN           NaN  \n",
       "984661               NaN                   NaN           NaN  \n",
       "1192843              NaN                   NaN           NaN  \n",
       "\n",
       "[3 rows x 68 columns]"
      ]
     },
     "execution_count": 7,
     "metadata": {},
     "output_type": "execute_result"
    }
   ],
   "source": [
    "train.head(3)"
   ]
  },
  {
   "cell_type": "markdown",
   "id": "9cee6a3f",
   "metadata": {},
   "source": [
    "#### Initial Exploration"
   ]
  },
  {
   "cell_type": "code",
   "execution_count": null,
   "id": "6b67003b",
   "metadata": {},
   "outputs": [],
   "source": [
    "# train.info()"
   ]
  },
  {
   "cell_type": "code",
   "execution_count": 8,
   "id": "7fbb9e59",
   "metadata": {},
   "outputs": [
    {
     "data": {
      "text/html": [
       "<div>\n",
       "<style scoped>\n",
       "    .dataframe tbody tr th:only-of-type {\n",
       "        vertical-align: middle;\n",
       "    }\n",
       "\n",
       "    .dataframe tbody tr th {\n",
       "        vertical-align: top;\n",
       "    }\n",
       "\n",
       "    .dataframe thead th {\n",
       "        text-align: right;\n",
       "    }\n",
       "</style>\n",
       "<table border=\"1\" class=\"dataframe\">\n",
       "  <thead>\n",
       "    <tr style=\"text-align: right;\">\n",
       "      <th></th>\n",
       "      <th>id</th>\n",
       "      <th>parcel_id</th>\n",
       "      <th>air_cond_id</th>\n",
       "      <th>architect_style_id</th>\n",
       "      <th>basement_sqft</th>\n",
       "      <th>bath_count</th>\n",
       "      <th>bed_count</th>\n",
       "      <th>building_class_id</th>\n",
       "      <th>building_quality_id</th>\n",
       "      <th>calc_bath_n_bed</th>\n",
       "      <th>...</th>\n",
       "      <th>num_stories</th>\n",
       "      <th>fire_place_flag</th>\n",
       "      <th>structure_tax_value</th>\n",
       "      <th>tax_value</th>\n",
       "      <th>assessment_year</th>\n",
       "      <th>land_tax_value</th>\n",
       "      <th>tax_amount</th>\n",
       "      <th>tax_delinquency_year</th>\n",
       "      <th>census_tract_and_block</th>\n",
       "      <th>log_error</th>\n",
       "    </tr>\n",
       "  </thead>\n",
       "  <tbody>\n",
       "    <tr>\n",
       "      <th>count</th>\n",
       "      <td>1.908789e+06</td>\n",
       "      <td>1.908789e+06</td>\n",
       "      <td>521532.000000</td>\n",
       "      <td>3828.000000</td>\n",
       "      <td>1053.000000</td>\n",
       "      <td>1.908772e+06</td>\n",
       "      <td>1.908778e+06</td>\n",
       "      <td>8093.000000</td>\n",
       "      <td>1.243493e+06</td>\n",
       "      <td>1.835927e+06</td>\n",
       "      <td>...</td>\n",
       "      <td>438362.000000</td>\n",
       "      <td>3294.0</td>\n",
       "      <td>1.880996e+06</td>\n",
       "      <td>1.888808e+06</td>\n",
       "      <td>1.908788e+06</td>\n",
       "      <td>1.872575e+06</td>\n",
       "      <td>1.896167e+06</td>\n",
       "      <td>36198.000000</td>\n",
       "      <td>1.862832e+06</td>\n",
       "      <td>49628.000000</td>\n",
       "    </tr>\n",
       "    <tr>\n",
       "      <th>mean</th>\n",
       "      <td>1.491081e+06</td>\n",
       "      <td>1.332284e+07</td>\n",
       "      <td>1.941566</td>\n",
       "      <td>7.199321</td>\n",
       "      <td>638.609687</td>\n",
       "      <td>2.215722e+00</td>\n",
       "      <td>3.093356e+00</td>\n",
       "      <td>3.739899</td>\n",
       "      <td>6.279851e+00</td>\n",
       "      <td>2.303007e+00</td>\n",
       "      <td>...</td>\n",
       "      <td>1.400902</td>\n",
       "      <td>1.0</td>\n",
       "      <td>1.778668e+05</td>\n",
       "      <td>4.432883e+05</td>\n",
       "      <td>2.015998e+03</td>\n",
       "      <td>2.684645e+05</td>\n",
       "      <td>5.406817e+03</td>\n",
       "      <td>13.905409</td>\n",
       "      <td>6.048402e+13</td>\n",
       "      <td>0.016711</td>\n",
       "    </tr>\n",
       "    <tr>\n",
       "      <th>std</th>\n",
       "      <td>8.607494e+05</td>\n",
       "      <td>7.894017e+06</td>\n",
       "      <td>3.152955</td>\n",
       "      <td>2.441632</td>\n",
       "      <td>489.974625</td>\n",
       "      <td>1.077108e+00</td>\n",
       "      <td>1.270657e+00</td>\n",
       "      <td>0.492841</td>\n",
       "      <td>1.729125e+00</td>\n",
       "      <td>1.002312e+00</td>\n",
       "      <td>...</td>\n",
       "      <td>0.537238</td>\n",
       "      <td>0.0</td>\n",
       "      <td>4.540712e+05</td>\n",
       "      <td>8.239630e+05</td>\n",
       "      <td>6.119055e-02</td>\n",
       "      <td>4.949179e+05</td>\n",
       "      <td>9.798866e+03</td>\n",
       "      <td>2.760380</td>\n",
       "      <td>2.057247e+11</td>\n",
       "      <td>0.167092</td>\n",
       "    </tr>\n",
       "    <tr>\n",
       "      <th>min</th>\n",
       "      <td>1.000000e+00</td>\n",
       "      <td>1.071172e+07</td>\n",
       "      <td>1.000000</td>\n",
       "      <td>2.000000</td>\n",
       "      <td>20.000000</td>\n",
       "      <td>0.000000e+00</td>\n",
       "      <td>0.000000e+00</td>\n",
       "      <td>1.000000</td>\n",
       "      <td>1.000000e+00</td>\n",
       "      <td>1.000000e+00</td>\n",
       "      <td>...</td>\n",
       "      <td>1.000000</td>\n",
       "      <td>1.0</td>\n",
       "      <td>1.000000e+00</td>\n",
       "      <td>1.000000e+00</td>\n",
       "      <td>2.000000e+03</td>\n",
       "      <td>1.000000e+00</td>\n",
       "      <td>2.400000e-01</td>\n",
       "      <td>0.000000</td>\n",
       "      <td>-1.000000e+00</td>\n",
       "      <td>-4.655420</td>\n",
       "    </tr>\n",
       "    <tr>\n",
       "      <th>25%</th>\n",
       "      <td>7.457340e+05</td>\n",
       "      <td>1.164239e+07</td>\n",
       "      <td>1.000000</td>\n",
       "      <td>7.000000</td>\n",
       "      <td>280.000000</td>\n",
       "      <td>2.000000e+00</td>\n",
       "      <td>2.000000e+00</td>\n",
       "      <td>4.000000</td>\n",
       "      <td>5.000000e+00</td>\n",
       "      <td>2.000000e+00</td>\n",
       "      <td>...</td>\n",
       "      <td>1.000000</td>\n",
       "      <td>1.0</td>\n",
       "      <td>7.766700e+04</td>\n",
       "      <td>1.882100e+05</td>\n",
       "      <td>2.016000e+03</td>\n",
       "      <td>7.972300e+04</td>\n",
       "      <td>2.470000e+03</td>\n",
       "      <td>14.000000</td>\n",
       "      <td>6.037400e+13</td>\n",
       "      <td>-0.024528</td>\n",
       "    </tr>\n",
       "    <tr>\n",
       "      <th>50%</th>\n",
       "      <td>1.491234e+06</td>\n",
       "      <td>1.254418e+07</td>\n",
       "      <td>1.000000</td>\n",
       "      <td>7.000000</td>\n",
       "      <td>539.000000</td>\n",
       "      <td>2.000000e+00</td>\n",
       "      <td>3.000000e+00</td>\n",
       "      <td>4.000000</td>\n",
       "      <td>6.000000e+00</td>\n",
       "      <td>2.000000e+00</td>\n",
       "      <td>...</td>\n",
       "      <td>1.000000</td>\n",
       "      <td>1.0</td>\n",
       "      <td>1.269930e+05</td>\n",
       "      <td>3.210955e+05</td>\n",
       "      <td>2.016000e+03</td>\n",
       "      <td>1.767380e+05</td>\n",
       "      <td>4.006840e+03</td>\n",
       "      <td>14.000000</td>\n",
       "      <td>6.037571e+13</td>\n",
       "      <td>0.006594</td>\n",
       "    </tr>\n",
       "    <tr>\n",
       "      <th>75%</th>\n",
       "      <td>2.236066e+06</td>\n",
       "      <td>1.409628e+07</td>\n",
       "      <td>1.000000</td>\n",
       "      <td>7.000000</td>\n",
       "      <td>840.000000</td>\n",
       "      <td>3.000000e+00</td>\n",
       "      <td>4.000000e+00</td>\n",
       "      <td>4.000000</td>\n",
       "      <td>8.000000e+00</td>\n",
       "      <td>3.000000e+00</td>\n",
       "      <td>...</td>\n",
       "      <td>2.000000</td>\n",
       "      <td>1.0</td>\n",
       "      <td>2.040502e+05</td>\n",
       "      <td>5.141822e+05</td>\n",
       "      <td>2.016000e+03</td>\n",
       "      <td>3.262140e+05</td>\n",
       "      <td>6.231900e+03</td>\n",
       "      <td>15.000000</td>\n",
       "      <td>6.059042e+13</td>\n",
       "      <td>0.038981</td>\n",
       "    </tr>\n",
       "    <tr>\n",
       "      <th>max</th>\n",
       "      <td>2.982284e+06</td>\n",
       "      <td>1.696019e+08</td>\n",
       "      <td>13.000000</td>\n",
       "      <td>27.000000</td>\n",
       "      <td>4122.000000</td>\n",
       "      <td>3.200000e+01</td>\n",
       "      <td>2.500000e+01</td>\n",
       "      <td>5.000000</td>\n",
       "      <td>1.200000e+01</td>\n",
       "      <td>3.200000e+01</td>\n",
       "      <td>...</td>\n",
       "      <td>20.000000</td>\n",
       "      <td>1.0</td>\n",
       "      <td>2.280000e+08</td>\n",
       "      <td>3.196225e+08</td>\n",
       "      <td>2.016000e+03</td>\n",
       "      <td>9.401108e+07</td>\n",
       "      <td>3.823176e+06</td>\n",
       "      <td>99.000000</td>\n",
       "      <td>6.111009e+13</td>\n",
       "      <td>3.394544</td>\n",
       "    </tr>\n",
       "  </tbody>\n",
       "</table>\n",
       "<p>8 rows × 57 columns</p>\n",
       "</div>"
      ],
      "text/plain": [
       "                 id     parcel_id    air_cond_id  architect_style_id  \\\n",
       "count  1.908789e+06  1.908789e+06  521532.000000         3828.000000   \n",
       "mean   1.491081e+06  1.332284e+07       1.941566            7.199321   \n",
       "std    8.607494e+05  7.894017e+06       3.152955            2.441632   \n",
       "min    1.000000e+00  1.071172e+07       1.000000            2.000000   \n",
       "25%    7.457340e+05  1.164239e+07       1.000000            7.000000   \n",
       "50%    1.491234e+06  1.254418e+07       1.000000            7.000000   \n",
       "75%    2.236066e+06  1.409628e+07       1.000000            7.000000   \n",
       "max    2.982284e+06  1.696019e+08      13.000000           27.000000   \n",
       "\n",
       "       basement_sqft    bath_count     bed_count  building_class_id  \\\n",
       "count    1053.000000  1.908772e+06  1.908778e+06        8093.000000   \n",
       "mean      638.609687  2.215722e+00  3.093356e+00           3.739899   \n",
       "std       489.974625  1.077108e+00  1.270657e+00           0.492841   \n",
       "min        20.000000  0.000000e+00  0.000000e+00           1.000000   \n",
       "25%       280.000000  2.000000e+00  2.000000e+00           4.000000   \n",
       "50%       539.000000  2.000000e+00  3.000000e+00           4.000000   \n",
       "75%       840.000000  3.000000e+00  4.000000e+00           4.000000   \n",
       "max      4122.000000  3.200000e+01  2.500000e+01           5.000000   \n",
       "\n",
       "       building_quality_id  calc_bath_n_bed  ...    num_stories  \\\n",
       "count         1.243493e+06     1.835927e+06  ...  438362.000000   \n",
       "mean          6.279851e+00     2.303007e+00  ...       1.400902   \n",
       "std           1.729125e+00     1.002312e+00  ...       0.537238   \n",
       "min           1.000000e+00     1.000000e+00  ...       1.000000   \n",
       "25%           5.000000e+00     2.000000e+00  ...       1.000000   \n",
       "50%           6.000000e+00     2.000000e+00  ...       1.000000   \n",
       "75%           8.000000e+00     3.000000e+00  ...       2.000000   \n",
       "max           1.200000e+01     3.200000e+01  ...      20.000000   \n",
       "\n",
       "       fire_place_flag  structure_tax_value     tax_value  assessment_year  \\\n",
       "count           3294.0         1.880996e+06  1.888808e+06     1.908788e+06   \n",
       "mean               1.0         1.778668e+05  4.432883e+05     2.015998e+03   \n",
       "std                0.0         4.540712e+05  8.239630e+05     6.119055e-02   \n",
       "min                1.0         1.000000e+00  1.000000e+00     2.000000e+03   \n",
       "25%                1.0         7.766700e+04  1.882100e+05     2.016000e+03   \n",
       "50%                1.0         1.269930e+05  3.210955e+05     2.016000e+03   \n",
       "75%                1.0         2.040502e+05  5.141822e+05     2.016000e+03   \n",
       "max                1.0         2.280000e+08  3.196225e+08     2.016000e+03   \n",
       "\n",
       "       land_tax_value    tax_amount  tax_delinquency_year  \\\n",
       "count    1.872575e+06  1.896167e+06          36198.000000   \n",
       "mean     2.684645e+05  5.406817e+03             13.905409   \n",
       "std      4.949179e+05  9.798866e+03              2.760380   \n",
       "min      1.000000e+00  2.400000e-01              0.000000   \n",
       "25%      7.972300e+04  2.470000e+03             14.000000   \n",
       "50%      1.767380e+05  4.006840e+03             14.000000   \n",
       "75%      3.262140e+05  6.231900e+03             15.000000   \n",
       "max      9.401108e+07  3.823176e+06             99.000000   \n",
       "\n",
       "       census_tract_and_block     log_error  \n",
       "count            1.862832e+06  49628.000000  \n",
       "mean             6.048402e+13      0.016711  \n",
       "std              2.057247e+11      0.167092  \n",
       "min             -1.000000e+00     -4.655420  \n",
       "25%              6.037400e+13     -0.024528  \n",
       "50%              6.037571e+13      0.006594  \n",
       "75%              6.059042e+13      0.038981  \n",
       "max              6.111009e+13      3.394544  \n",
       "\n",
       "[8 rows x 57 columns]"
      ]
     },
     "execution_count": 8,
     "metadata": {},
     "output_type": "execute_result"
    }
   ],
   "source": [
    "train.describe()"
   ]
  },
  {
   "cell_type": "code",
   "execution_count": null,
   "id": "43562e1c",
   "metadata": {},
   "outputs": [],
   "source": [
    "list(train.columns)"
   ]
  },
  {
   "cell_type": "markdown",
   "id": "79c2cbca",
   "metadata": {},
   "source": [
    "### Visualize the row data\n",
    "\n",
    "### Target: --> logerror"
   ]
  },
  {
   "cell_type": "markdown",
   "id": "602b5337",
   "metadata": {},
   "source": [
    "## (a). Is the log error significantly different for homes with 1, 2, or 3 storey levels?\n",
    "\n",
    "- ### H0 = 'log error of home with 1, 2 and 3 stories are equal'\n",
    "- ### H1 = 'log error of home with 1, 2 and 3 stories are un-equal ''"
   ]
  },
  {
   "cell_type": "code",
   "execution_count": 8,
   "id": "0f548075",
   "metadata": {},
   "outputs": [
    {
     "data": {
      "text/plain": [
       "1.0    272914\n",
       "2.0    155261\n",
       "3.0     10128\n",
       "Name: num_stories, dtype: int64"
      ]
     },
     "execution_count": 8,
     "metadata": {},
     "output_type": "execute_result"
    }
   ],
   "source": [
    "# Check the most common stories levels\n",
    "train.num_stories.value_counts().head(3)"
   ]
  },
  {
   "cell_type": "code",
   "execution_count": 2,
   "id": "f85f60f9",
   "metadata": {},
   "outputs": [
    {
     "ename": "NameError",
     "evalue": "name 'train' is not defined",
     "output_type": "error",
     "traceback": [
      "\u001b[0;31m---------------------------------------------------------------------------\u001b[0m",
      "\u001b[0;31mNameError\u001b[0m                                 Traceback (most recent call last)",
      "\u001b[0;32m/var/folders/b2/3fdswr7x4v5fhdt54wpcfmdw0000gn/T/ipykernel_6289/1909350614.py\u001b[0m in \u001b[0;36m<module>\u001b[0;34m\u001b[0m\n\u001b[1;32m      1\u001b[0m \u001b[0mplt\u001b[0m\u001b[0;34m.\u001b[0m\u001b[0mfigure\u001b[0m\u001b[0;34m(\u001b[0m\u001b[0mfigsize\u001b[0m \u001b[0;34m=\u001b[0m \u001b[0;34m(\u001b[0m\u001b[0;36m16\u001b[0m\u001b[0;34m,\u001b[0m \u001b[0;36m10\u001b[0m\u001b[0;34m)\u001b[0m\u001b[0;34m)\u001b[0m\u001b[0;34m\u001b[0m\u001b[0;34m\u001b[0m\u001b[0m\n\u001b[0;32m----> 2\u001b[0;31m \u001b[0msns\u001b[0m\u001b[0;34m.\u001b[0m\u001b[0mscatterplot\u001b[0m\u001b[0;34m(\u001b[0m\u001b[0mdata\u001b[0m\u001b[0;34m=\u001b[0m\u001b[0mtrain\u001b[0m\u001b[0;34m[\u001b[0m\u001b[0mtrain\u001b[0m\u001b[0;34m.\u001b[0m\u001b[0mnum_stories\u001b[0m \u001b[0;34m==\u001b[0m \u001b[0;36m1\u001b[0m\u001b[0;34m]\u001b[0m\u001b[0;34m,\u001b[0m \u001b[0mx\u001b[0m \u001b[0;34m=\u001b[0m \u001b[0;34m'num_stories'\u001b[0m\u001b[0;34m,\u001b[0m \u001b[0my\u001b[0m \u001b[0;34m=\u001b[0m \u001b[0;34m'log_error'\u001b[0m\u001b[0;34m)\u001b[0m\u001b[0;34m\u001b[0m\u001b[0;34m\u001b[0m\u001b[0m\n\u001b[0m\u001b[1;32m      3\u001b[0m \u001b[0msns\u001b[0m\u001b[0;34m.\u001b[0m\u001b[0mscatterplot\u001b[0m\u001b[0;34m(\u001b[0m\u001b[0mdata\u001b[0m\u001b[0;34m=\u001b[0m\u001b[0mtrain\u001b[0m\u001b[0;34m[\u001b[0m\u001b[0mtrain\u001b[0m\u001b[0;34m.\u001b[0m\u001b[0mnum_stories\u001b[0m \u001b[0;34m==\u001b[0m \u001b[0;36m2\u001b[0m\u001b[0;34m]\u001b[0m\u001b[0;34m,\u001b[0m \u001b[0mx\u001b[0m \u001b[0;34m=\u001b[0m \u001b[0;34m'num_stories'\u001b[0m\u001b[0;34m,\u001b[0m \u001b[0my\u001b[0m \u001b[0;34m=\u001b[0m \u001b[0;34m'log_error'\u001b[0m\u001b[0;34m)\u001b[0m\u001b[0;34m\u001b[0m\u001b[0;34m\u001b[0m\u001b[0m\n\u001b[1;32m      4\u001b[0m \u001b[0msns\u001b[0m\u001b[0;34m.\u001b[0m\u001b[0mscatterplot\u001b[0m\u001b[0;34m(\u001b[0m\u001b[0mdata\u001b[0m\u001b[0;34m=\u001b[0m\u001b[0mtrain\u001b[0m\u001b[0;34m[\u001b[0m\u001b[0mtrain\u001b[0m\u001b[0;34m.\u001b[0m\u001b[0mnum_stories\u001b[0m \u001b[0;34m==\u001b[0m \u001b[0;36m3\u001b[0m\u001b[0;34m]\u001b[0m\u001b[0;34m,\u001b[0m \u001b[0mx\u001b[0m \u001b[0;34m=\u001b[0m \u001b[0;34m'num_stories'\u001b[0m\u001b[0;34m,\u001b[0m \u001b[0my\u001b[0m \u001b[0;34m=\u001b[0m \u001b[0;34m'log_error'\u001b[0m\u001b[0;34m)\u001b[0m\u001b[0;34m\u001b[0m\u001b[0;34m\u001b[0m\u001b[0m\n\u001b[1;32m      5\u001b[0m \u001b[0;34m\u001b[0m\u001b[0m\n",
      "\u001b[0;31mNameError\u001b[0m: name 'train' is not defined"
     ]
    },
    {
     "data": {
      "text/plain": [
       "<Figure size 1152x720 with 0 Axes>"
      ]
     },
     "metadata": {},
     "output_type": "display_data"
    }
   ],
   "source": [
    "plt.figure(figsize = (16, 10))\n",
    "sns.scatterplot(data=train[train.num_stories == 1], x = 'num_stories', y = 'log_error')\n",
    "sns.scatterplot(data=train[train.num_stories == 2], x = 'num_stories', y = 'log_error')\n",
    "sns.scatterplot(data=train[train.num_stories == 3], x = 'num_stories', y = 'log_error')\n",
    "\n",
    "plt.title('Number of stories vs Log Error', size = 20)\n",
    "plt.xlabel('Number of Stories')\n",
    "plt.ylabel('Log Error')\n",
    "plt.xlim(0, 4)\n",
    "plt.show()"
   ]
  },
  {
   "cell_type": "code",
   "execution_count": 13,
   "id": "65330827",
   "metadata": {},
   "outputs": [
    {
     "name": "stdout",
     "output_type": "stream",
     "text": [
      "Log Errors (Storey):\n",
      "\n",
      "\t1 Storey: 0.019424044136647875\n",
      "\n",
      "\t2 Stories: 0.022313220288454175\n",
      "\n",
      "\t3 Stories: 0.022194864265104537\n"
     ]
    }
   ],
   "source": [
    "mean_log_error_1_storey = train[train.num_stories == 1].log_error.mean()\n",
    "mean_log_error_2_storey = train[train.num_stories == 2].log_error.mean()\n",
    "mean_log_error_3_storey = train[train.num_stories == 3].log_error.mean()\n",
    "\n",
    "print('Log Errors (Storey):')\n",
    "print(f'\\n\\t1 Storey: {mean_log_error_1_storey}')\n",
    "print(f'\\n\\t2 Stories: {mean_log_error_2_storey}')\n",
    "print(f'\\n\\t3 Stories: {mean_log_error_3_storey}')"
   ]
  },
  {
   "cell_type": "code",
   "execution_count": 50,
   "id": "8a8d0a88",
   "metadata": {},
   "outputs": [
    {
     "name": "stdout",
     "output_type": "stream",
     "text": [
      "Variance:\n",
      "\n",
      "\tStorey 1: 0.037355666491292 \n",
      "\tStorey 2: 0.02492327300906344 \n",
      "\tStorey 3: 0.03724440293704202\n"
     ]
    }
   ],
   "source": [
    "# Check the variance\n",
    "print('Variance:\\n')\n",
    "print(f'\\tStorey 1: {train[train.num_stories == 1].log_error.var()} \\n\\tStorey 2: {train[train.num_stories == 2].log_error.var()} \\n\\tStorey 3: {train[train.num_stories == 3].log_error.var()}')\n"
   ]
  },
  {
   "cell_type": "code",
   "execution_count": 51,
   "id": "3cf461f8",
   "metadata": {},
   "outputs": [
    {
     "data": {
      "text/html": [
       "<div>\n",
       "<style scoped>\n",
       "    .dataframe tbody tr th:only-of-type {\n",
       "        vertical-align: middle;\n",
       "    }\n",
       "\n",
       "    .dataframe tbody tr th {\n",
       "        vertical-align: top;\n",
       "    }\n",
       "\n",
       "    .dataframe thead th {\n",
       "        text-align: right;\n",
       "    }\n",
       "</style>\n",
       "<table border=\"1\" class=\"dataframe\">\n",
       "  <thead>\n",
       "    <tr style=\"text-align: right;\">\n",
       "      <th></th>\n",
       "      <th>id</th>\n",
       "      <th>parcel_id</th>\n",
       "      <th>air_cond_id</th>\n",
       "      <th>architect_style_id</th>\n",
       "      <th>basement_sqft</th>\n",
       "      <th>bath_count</th>\n",
       "      <th>bed_count</th>\n",
       "      <th>building_class_id</th>\n",
       "      <th>building_quality_id</th>\n",
       "      <th>calc_bath_n_bed</th>\n",
       "      <th>...</th>\n",
       "      <th>census_tract_and_block</th>\n",
       "      <th>log_error</th>\n",
       "      <th>transaction_date</th>\n",
       "      <th>construction_desc</th>\n",
       "      <th>story_desc</th>\n",
       "      <th>property_land_use_desc</th>\n",
       "      <th>heating_or_system_desc</th>\n",
       "      <th>bldg_class_desc</th>\n",
       "      <th>architect_style_desc</th>\n",
       "      <th>air_con_desc</th>\n",
       "    </tr>\n",
       "  </thead>\n",
       "  <tbody>\n",
       "    <tr>\n",
       "      <th>1006346</th>\n",
       "      <td>2316322</td>\n",
       "      <td>11789767</td>\n",
       "      <td>NaN</td>\n",
       "      <td>NaN</td>\n",
       "      <td>NaN</td>\n",
       "      <td>0.0</td>\n",
       "      <td>0.0</td>\n",
       "      <td>NaN</td>\n",
       "      <td>NaN</td>\n",
       "      <td>NaN</td>\n",
       "      <td>...</td>\n",
       "      <td>6.037209e+13</td>\n",
       "      <td>NaN</td>\n",
       "      <td>NaN</td>\n",
       "      <td>NaN</td>\n",
       "      <td>NaN</td>\n",
       "      <td>Duplex (2 Units, Any Combination)</td>\n",
       "      <td>NaN</td>\n",
       "      <td>NaN</td>\n",
       "      <td>NaN</td>\n",
       "      <td>NaN</td>\n",
       "    </tr>\n",
       "    <tr>\n",
       "      <th>984661</th>\n",
       "      <td>1617555</td>\n",
       "      <td>12280373</td>\n",
       "      <td>NaN</td>\n",
       "      <td>NaN</td>\n",
       "      <td>NaN</td>\n",
       "      <td>1.0</td>\n",
       "      <td>2.0</td>\n",
       "      <td>NaN</td>\n",
       "      <td>4.0</td>\n",
       "      <td>1.0</td>\n",
       "      <td>...</td>\n",
       "      <td>6.037542e+13</td>\n",
       "      <td>NaN</td>\n",
       "      <td>NaN</td>\n",
       "      <td>NaN</td>\n",
       "      <td>NaN</td>\n",
       "      <td>Single Family Residential</td>\n",
       "      <td>Floor/Wall</td>\n",
       "      <td>NaN</td>\n",
       "      <td>NaN</td>\n",
       "      <td>NaN</td>\n",
       "    </tr>\n",
       "    <tr>\n",
       "      <th>1192843</th>\n",
       "      <td>2312258</td>\n",
       "      <td>17239546</td>\n",
       "      <td>NaN</td>\n",
       "      <td>NaN</td>\n",
       "      <td>NaN</td>\n",
       "      <td>2.5</td>\n",
       "      <td>4.0</td>\n",
       "      <td>NaN</td>\n",
       "      <td>NaN</td>\n",
       "      <td>2.5</td>\n",
       "      <td>...</td>\n",
       "      <td>6.111008e+13</td>\n",
       "      <td>NaN</td>\n",
       "      <td>NaN</td>\n",
       "      <td>NaN</td>\n",
       "      <td>NaN</td>\n",
       "      <td>Single Family Residential</td>\n",
       "      <td>NaN</td>\n",
       "      <td>NaN</td>\n",
       "      <td>NaN</td>\n",
       "      <td>NaN</td>\n",
       "    </tr>\n",
       "  </tbody>\n",
       "</table>\n",
       "<p>3 rows × 68 columns</p>\n",
       "</div>"
      ],
      "text/plain": [
       "              id  parcel_id  air_cond_id  architect_style_id  basement_sqft  \\\n",
       "1006346  2316322   11789767          NaN                 NaN            NaN   \n",
       "984661   1617555   12280373          NaN                 NaN            NaN   \n",
       "1192843  2312258   17239546          NaN                 NaN            NaN   \n",
       "\n",
       "         bath_count  bed_count  building_class_id  building_quality_id  \\\n",
       "1006346         0.0        0.0                NaN                  NaN   \n",
       "984661          1.0        2.0                NaN                  4.0   \n",
       "1192843         2.5        4.0                NaN                  NaN   \n",
       "\n",
       "         calc_bath_n_bed  ...  census_tract_and_block  log_error  \\\n",
       "1006346              NaN  ...            6.037209e+13        NaN   \n",
       "984661               1.0  ...            6.037542e+13        NaN   \n",
       "1192843              2.5  ...            6.111008e+13        NaN   \n",
       "\n",
       "         transaction_date  construction_desc  story_desc  \\\n",
       "1006346               NaN                NaN         NaN   \n",
       "984661                NaN                NaN         NaN   \n",
       "1192843               NaN                NaN         NaN   \n",
       "\n",
       "                    property_land_use_desc  heating_or_system_desc  \\\n",
       "1006346  Duplex (2 Units, Any Combination)                     NaN   \n",
       "984661           Single Family Residential              Floor/Wall   \n",
       "1192843          Single Family Residential                     NaN   \n",
       "\n",
       "         bldg_class_desc  architect_style_desc  air_con_desc  \n",
       "1006346              NaN                   NaN           NaN  \n",
       "984661               NaN                   NaN           NaN  \n",
       "1192843              NaN                   NaN           NaN  \n",
       "\n",
       "[3 rows x 68 columns]"
      ]
     },
     "execution_count": 51,
     "metadata": {},
     "output_type": "execute_result"
    }
   ],
   "source": [
    "train.head(3)"
   ]
  },
  {
   "cell_type": "markdown",
   "id": "8dfb3e6e",
   "metadata": {},
   "source": [
    "### T-test"
   ]
  },
  {
   "cell_type": "code",
   "execution_count": 47,
   "id": "162f5f59",
   "metadata": {},
   "outputs": [
    {
     "data": {
      "text/plain": [
       "(nan, nan)"
      ]
     },
     "execution_count": 47,
     "metadata": {},
     "output_type": "execute_result"
    }
   ],
   "source": [
    "# Set alpha level\n",
    "alpha = 0.05\n",
    "\n",
    "# Log Error Relatioship between 1 and 3 stories?\n",
    "\n",
    "stat, p = levene((train[train.num_stories == 1].log_error), \n",
    "                 (train[train.num_stories == 2].log_error), \n",
    "                 (train[train.num_stories == 3].log_error))\n",
    "\n",
    "stat, p\n",
    "\n",
    "\n"
   ]
  },
  {
   "cell_type": "markdown",
   "id": "0ee12f79",
   "metadata": {},
   "source": [
    "### Conclusion"
   ]
  },
  {
   "cell_type": "markdown",
   "id": "f3831dbc",
   "metadata": {},
   "source": [
    "- #### T-test??\n",
    "\n",
    "- #### correlation doesn't tell the whole story of a dataset, however...:\n",
    "    - #### 1 & 3 stories home are closely related unlike 2 stories homes\n"
   ]
  },
  {
   "cell_type": "markdown",
   "id": "a12f5ddd",
   "metadata": {},
   "source": [
    "## (b). Does the log-error vary between single family residential with central, wall unit, refrigeration, window unit and evaporation cooler?"
   ]
  },
  {
   "cell_type": "code",
   "execution_count": 16,
   "id": "9b722adf",
   "metadata": {},
   "outputs": [
    {
     "data": {
      "text/plain": [
       "array(['Duplex (2 Units, Any Combination)', 'Single Family Residential',\n",
       "       'Condominium', 'Quadruplex (4 Units, Any Combination)',\n",
       "       'Planned Unit Development', 'Mobile Home',\n",
       "       'Triplex (3 Units, Any Combination)', 'Cooperative',\n",
       "       'Store/Office (Mixed Use)',\n",
       "       'Commercial/Office/Residential Mixed Used', 'Cluster Home',\n",
       "       'Manufactured, Modular, Prefabricated Homes',\n",
       "       'Residential General', 'Townhouse', 'Residential Common Area',\n",
       "       'Inferred Single Family Residential'], dtype=object)"
      ]
     },
     "execution_count": 16,
     "metadata": {},
     "output_type": "execute_result"
    }
   ],
   "source": [
    "train.property_land_use_desc.unique()"
   ]
  },
  {
   "cell_type": "code",
   "execution_count": 17,
   "id": "1a08248a",
   "metadata": {},
   "outputs": [
    {
     "data": {
      "text/plain": [
       "(1378135, 68)"
      ]
     },
     "execution_count": 17,
     "metadata": {},
     "output_type": "execute_result"
    }
   ],
   "source": [
    "# Create single family subset\n",
    "\n",
    "single_family_homes = train[train.property_land_use_desc == 'Single Family Residential']\n",
    "single_family_homes.shape"
   ]
  },
  {
   "cell_type": "code",
   "execution_count": 18,
   "id": "411923cd",
   "metadata": {},
   "outputs": [
    {
     "name": "stdout",
     "output_type": "stream",
     "text": [
      "Log Errors (Air Conditionings):\n",
      "\n",
      "\tCentral AC: 0.019424044136647875\n",
      "\n",
      "\tWall Unit AC: 0.021631246250154525\n",
      "\n",
      "\tRefrigeration AC: nan\n",
      "\n",
      "\tWindow Unit AC: nan\n",
      "\n",
      "\tEvaporation Cooler AC: nan\n"
     ]
    }
   ],
   "source": [
    "# Create log error means for single family home with different AC types\n",
    "central_ac_single_fam_log_error = single_family_homes[single_family_homes.air_con_desc == 'Central'].log_error.mean()\n",
    "wall_ac_single_fam_log_error = single_family_homes[single_family_homes.air_con_desc == 'Wall Unit'].log_error.mean()\n",
    "refrigeration_ac_single_fam_log_error = single_family_homes[single_family_homes.air_con_desc == 'Refrigeration'].log_error.mean()\n",
    "window_ac_single_fam_log_error = single_family_homes[single_family_homes.air_con_desc == 'Window Unit'].log_error.mean()\n",
    "evaporation_cooler_ac_single_fam_log_error = single_family_homes[single_family_homes.air_con_desc == 'Evaporative Cooler'].log_error.mean()\n",
    "\n",
    "print('Log Errors (Air Conditionings):')\n",
    "print(f'\\n\\tCentral AC: {mean_log_error_1_storey}')\n",
    "print(f'\\n\\tWall Unit AC: {wall_ac_single_fam_log_error}')\n",
    "print(f'\\n\\tRefrigeration AC: {refrigeration_ac_single_fam_log_error}')\n",
    "print(f'\\n\\tWindow Unit AC: {window_ac_single_fam_log_error}')\n",
    "print(f'\\n\\tEvaporation Cooler AC: {evaporation_cooler_ac_single_fam_log_error}')\n",
    "\n"
   ]
  },
  {
   "cell_type": "code",
   "execution_count": 19,
   "id": "218735c5",
   "metadata": {},
   "outputs": [
    {
     "data": {
      "image/png": "[encoded data removed]",
      "text/plain": [
       "<Figure size 1152x720 with 1 Axes>"
      ]
     },
     "metadata": {
      "needs_background": "light"
     },
     "output_type": "display_data"
    }
   ],
   "source": [
    "plt.figure(figsize = (16, 10))\n",
    "\n",
    "sns.scatterplot(data = single_family_homes, x = 'air_con_desc', y = 'log_error', hue = 'air_con_desc' )\n",
    "plt.title('Air Condition Types vs Log Error', size = 20)\n",
    "plt.xlabel('A.C. Version')\n",
    "plt.ylabel('Log Error')\n",
    "plt.xticks(rotation = 45)\n",
    "plt.show()\n"
   ]
  },
  {
   "cell_type": "markdown",
   "id": "a7b6dd6c",
   "metadata": {},
   "source": [
    "### T-test"
   ]
  },
  {
   "cell_type": "code",
   "execution_count": 20,
   "id": "0bced986",
   "metadata": {},
   "outputs": [
    {
     "data": {
      "text/plain": [
       "(nan, nan)"
      ]
     },
     "execution_count": 20,
     "metadata": {},
     "output_type": "execute_result"
    }
   ],
   "source": [
    "single_fam_ac_central = single_family_homes[single_family_homes.air_con_desc == 'Central'].log_error\n",
    "single_fam_ac_wall = single_family_homes[single_family_homes.air_con_desc == 'Wall Unit'].log_error\n",
    "\n",
    "t, p = stats.ttest_ind(single_fam_ac_central, single_fam_ac_wall, equal_var=False)\n",
    "t, p / 2"
   ]
  },
  {
   "cell_type": "code",
   "execution_count": null,
   "id": "6e1f0ea3",
   "metadata": {},
   "outputs": [],
   "source": []
  },
  {
   "cell_type": "markdown",
   "id": "3289617e",
   "metadata": {},
   "source": [
    "### Conclusion"
   ]
  },
  {
   "cell_type": "code",
   "execution_count": null,
   "id": "e8fc5181",
   "metadata": {},
   "outputs": [],
   "source": []
  },
  {
   "cell_type": "markdown",
   "id": "638e3264",
   "metadata": {},
   "source": [
    "## (c). Is the log error for homes with solar heating system significant vs those without?"
   ]
  },
  {
   "cell_type": "code",
   "execution_count": null,
   "id": "9868e953",
   "metadata": {},
   "outputs": [],
   "source": [
    "train.heating_or_system_desc.unique()"
   ]
  },
  {
   "cell_type": "code",
   "execution_count": 33,
   "id": "669a13ab",
   "metadata": {},
   "outputs": [],
   "source": [
    "# Solar Homes\n",
    "solar_heating_homes = train[train.heating_or_system_desc == 'Solar']\n",
    "\n",
    "# Non-solar homes \n",
    "non_solar_homes = train[train.heating_or_system_desc != 'Solar']"
   ]
  },
  {
   "cell_type": "code",
   "execution_count": 34,
   "id": "1d990358",
   "metadata": {},
   "outputs": [
    {
     "name": "stdout",
     "output_type": "stream",
     "text": [
      "Log Errors (Solar-Non Solar Heating):\n",
      "\n",
      "\tSolar Homes: 0.00048399855650352384 \n",
      "\tNon-Solar Home: 0.016731743104491992\n"
     ]
    }
   ],
   "source": [
    "# Log Errors\n",
    "\n",
    "mean_solar_home_log_error = solar_heating_homes.log_error.mean()\n",
    "\n",
    "\n",
    "mean_non_solar_home_log_error = non_solar_homes.log_error.mean()\n",
    "\n",
    "print('Log Errors (Solar-Non Solar Heating):')\n",
    "\n",
    "print(f'\\n\\tSolar Homes: {mean_solar_home_log_error} \\n\\tNon-Solar Home: {mean_non_solar_home_log_error}')"
   ]
  },
  {
   "cell_type": "code",
   "execution_count": 35,
   "id": "ec3a187a",
   "metadata": {},
   "outputs": [
    {
     "data": {
      "image/png": "[encoded data removed]",
      "text/plain": [
       "<Figure size 1152x720 with 1 Axes>"
      ]
     },
     "metadata": {
      "needs_background": "light"
     },
     "output_type": "display_data"
    }
   ],
   "source": [
    "plt.figure(figsize = (16, 10))\n",
    "\n",
    "sns.scatterplot(data = train, x = 'heating_or_system_desc', y = 'log_error', hue = 'heating_or_system_desc' )\n",
    "plt.title('Heating System vs Log Error', size = 20)\n",
    "plt.xlabel('Heating System')\n",
    "plt.ylabel('Log Error')\n",
    "plt.show()"
   ]
  },
  {
   "cell_type": "markdown",
   "id": "9cf504ae",
   "metadata": {},
   "source": [
    "### T-test "
   ]
  },
  {
   "cell_type": "code",
   "execution_count": null,
   "id": "8133073f",
   "metadata": {},
   "outputs": [],
   "source": []
  },
  {
   "cell_type": "markdown",
   "id": "83102866",
   "metadata": {},
   "source": [
    "### Conclusionm"
   ]
  },
  {
   "cell_type": "code",
   "execution_count": null,
   "id": "d856513f",
   "metadata": {},
   "outputs": [],
   "source": []
  },
  {
   "cell_type": "markdown",
   "id": "3e7ee6f5",
   "metadata": {},
   "source": [
    "## (d). Is the log-error for single family homes with one storey having central AC significant with log-error for single family homes with 2 stories having central AC? "
   ]
  },
  {
   "cell_type": "code",
   "execution_count": 21,
   "id": "fd0ce362",
   "metadata": {},
   "outputs": [],
   "source": [
    "# Create subsets\n",
    "\n",
    "single_story_ac_homes  = train[(train.num_stories == 1) & (train.air_con_desc == 'Central')]\n",
    "two_story_ac_homes  = train[(train.num_stories == 2) & (train.air_con_desc == 'Central')]\n"
   ]
  },
  {
   "cell_type": "code",
   "execution_count": 31,
   "id": "d5016349",
   "metadata": {},
   "outputs": [
    {
     "data": {
      "text/plain": [
       "(0.006943178862199973, 0.017440012405048878)"
      ]
     },
     "execution_count": 31,
     "metadata": {},
     "output_type": "execute_result"
    }
   ],
   "source": [
    "single_story_ac_homes_log_error = single_story_ac_homes.log_error.mean()\n",
    "two_story_ac_homes_log_error = two_story_ac_homes.log_error.mean()\n",
    "\n",
    "single_story_ac_homes_log_error, two_story_ac_homes_log_error"
   ]
  },
  {
   "cell_type": "code",
   "execution_count": null,
   "id": "f8b03927",
   "metadata": {},
   "outputs": [],
   "source": []
  },
  {
   "cell_type": "code",
   "execution_count": null,
   "id": "2e4527af",
   "metadata": {},
   "outputs": [],
   "source": []
  },
  {
   "cell_type": "markdown",
   "id": "a19fa879",
   "metadata": {},
   "source": [
    "### T-test"
   ]
  },
  {
   "cell_type": "code",
   "execution_count": 30,
   "id": "e677514f",
   "metadata": {},
   "outputs": [
    {
     "data": {
      "text/plain": [
       "(nan, nan)"
      ]
     },
     "execution_count": 30,
     "metadata": {},
     "output_type": "execute_result"
    }
   ],
   "source": [
    "t, p = stats.ttest_ind(single_story_ac_homes_log_error, two_story_ac_homes_log_error, equal_var=False)\n",
    "t, p / 2"
   ]
  },
  {
   "cell_type": "markdown",
   "id": "8c7f6ec2",
   "metadata": {},
   "source": [
    "### Conclusion"
   ]
  },
  {
   "cell_type": "code",
   "execution_count": null,
   "id": "5cf7f5aa",
   "metadata": {},
   "outputs": [],
   "source": []
  },
  {
   "cell_type": "markdown",
   "id": "24209b01",
   "metadata": {},
   "source": [
    "## (e). Is the log-error for single family homes with one storey having central heating system significant with log-error for single family homes with 2 stories having central heating systemm? "
   ]
  },
  {
   "cell_type": "code",
   "execution_count": null,
   "id": "18bcac77",
   "metadata": {},
   "outputs": [],
   "source": []
  },
  {
   "cell_type": "code",
   "execution_count": null,
   "id": "68bb344c",
   "metadata": {},
   "outputs": [],
   "source": []
  },
  {
   "cell_type": "code",
   "execution_count": null,
   "id": "854ca48c",
   "metadata": {},
   "outputs": [],
   "source": []
  },
  {
   "cell_type": "markdown",
   "id": "e74c34f6",
   "metadata": {},
   "source": [
    "### T-test"
   ]
  },
  {
   "cell_type": "code",
   "execution_count": null,
   "id": "c05e0a38",
   "metadata": {},
   "outputs": [],
   "source": []
  },
  {
   "cell_type": "code",
   "execution_count": null,
   "id": "5a08db47",
   "metadata": {},
   "outputs": [],
   "source": []
  },
  {
   "cell_type": "markdown",
   "id": "c9843fe6",
   "metadata": {},
   "source": [
    "### Conclusion"
   ]
  }
 ],
 "metadata": {
  "kernelspec": {
   "display_name": "Python 3 (ipykernel)",
   "language": "python",
   "name": "python3"
  },
  "language_info": {
   "codemirror_mode": {
    "name": "ipython",
    "version": 3
   },
   "file_extension": ".py",
   "mimetype": "text/x-python",
   "name": "python",
   "nbconvert_exporter": "python",
   "pygments_lexer": "ipython3",
   "version": "3.9.7"
  }
 },
 "nbformat": 4,
 "nbformat_minor": 5
}
