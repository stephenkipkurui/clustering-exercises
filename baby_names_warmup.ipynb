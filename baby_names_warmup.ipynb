{
 "cells": [
  {
   "cell_type": "markdown",
   "id": "491db769",
   "metadata": {},
   "source": [
    "# Baby Names\n",
    "\n",
    "This dataset contains information on how many babies were born with each name. Both the raw number and proportion of births for the year are included."
   ]
  },
  {
   "cell_type": "code",
   "execution_count": null,
   "id": "e8a5856f",
   "metadata": {},
   "outputs": [],
   "source": [
    "import matplotlib.pyplot as plt\n",
    "import seaborn as sns\n",
    "import numpy as np\n",
    "import pandas as pd\n",
    "\n",
    "import warnings\n",
    "warnings.filterwarnings('ignore')\n",
    "\n",
    "url = 'https://raw.githubusercontent.com/zgulde/tidytuesday/master/data/2022/2022-03-22/babynames.csv'\n",
    "df = pd.read_csv(url)\n",
    "df.head()"
   ]
  },
  {
   "cell_type": "markdown",
   "id": "0b8fa8e9",
   "metadata": {},
   "source": [
    "- What were the 10 most popular names the year you were born?\n",
    "- What year was your name the most popular?\n",
    "- Where does your name rank for the year that you were born?\n",
    "- Does your name increase or decrease in popularity compared to the year after the year you were born? The year before? What about 5 years before/after?\n",
    "- Visualize your name's popularity over time."
   ]
  },
  {
   "cell_type": "code",
   "execution_count": 7,
   "id": "ad3a9c9a",
   "metadata": {},
   "outputs": [
    {
     "data": {
      "text/html": [
       "<div>\n",
       "<style scoped>\n",
       "    .dataframe tbody tr th:only-of-type {\n",
       "        vertical-align: middle;\n",
       "    }\n",
       "\n",
       "    .dataframe tbody tr th {\n",
       "        vertical-align: top;\n",
       "    }\n",
       "\n",
       "    .dataframe thead th {\n",
       "        text-align: right;\n",
       "    }\n",
       "</style>\n",
       "<table border=\"1\" class=\"dataframe\">\n",
       "  <thead>\n",
       "    <tr style=\"text-align: right;\">\n",
       "      <th></th>\n",
       "      <th>name</th>\n",
       "      <th>n</th>\n",
       "    </tr>\n",
       "  </thead>\n",
       "  <tbody>\n",
       "    <tr>\n",
       "      <th>973840</th>\n",
       "      <td>David</td>\n",
       "      <td>38513</td>\n",
       "    </tr>\n",
       "    <tr>\n",
       "      <th>973839</th>\n",
       "      <td>Daniel</td>\n",
       "      <td>38541</td>\n",
       "    </tr>\n",
       "    <tr>\n",
       "      <th>961338</th>\n",
       "      <td>Amanda</td>\n",
       "      <td>39055</td>\n",
       "    </tr>\n",
       "    <tr>\n",
       "      <th>973838</th>\n",
       "      <td>Joshua</td>\n",
       "      <td>42195</td>\n",
       "    </tr>\n",
       "    <tr>\n",
       "      <th>961337</th>\n",
       "      <td>Jennifer</td>\n",
       "      <td>42650</td>\n",
       "    </tr>\n",
       "    <tr>\n",
       "      <th>961336</th>\n",
       "      <td>Ashley</td>\n",
       "      <td>47007</td>\n",
       "    </tr>\n",
       "    <tr>\n",
       "      <th>973837</th>\n",
       "      <td>Matthew</td>\n",
       "      <td>47073</td>\n",
       "    </tr>\n",
       "    <tr>\n",
       "      <th>961335</th>\n",
       "      <td>Jessica</td>\n",
       "      <td>48346</td>\n",
       "    </tr>\n",
       "    <tr>\n",
       "      <th>973836</th>\n",
       "      <td>Christopher</td>\n",
       "      <td>59600</td>\n",
       "    </tr>\n",
       "    <tr>\n",
       "      <th>973835</th>\n",
       "      <td>Michael</td>\n",
       "      <td>64906</td>\n",
       "    </tr>\n",
       "  </tbody>\n",
       "</table>\n",
       "</div>"
      ],
      "text/plain": [
       "               name      n\n",
       "973840        David  38513\n",
       "973839       Daniel  38541\n",
       "961338       Amanda  39055\n",
       "973838       Joshua  42195\n",
       "961337     Jennifer  42650\n",
       "961336       Ashley  47007\n",
       "973837      Matthew  47073\n",
       "961335      Jessica  48346\n",
       "973836  Christopher  59600\n",
       "973835      Michael  64906"
      ]
     },
     "execution_count": 7,
     "metadata": {},
     "output_type": "execute_result"
    }
   ],
   "source": [
    "# Names in 1985 most popular names \n",
    "df.loc[df.year == 1985, ['name', 'n']].sort_values(by = 'n').tail(10)\n"
   ]
  },
  {
   "cell_type": "code",
   "execution_count": 6,
   "id": "4cc885b4",
   "metadata": {},
   "outputs": [
    {
     "data": {
      "text/plain": [
       "year\n",
       "1953    21846\n",
       "1954    21897\n",
       "1955    22167\n",
       "1951    22526\n",
       "1952    23076\n",
       "Name: n, dtype: int64"
      ]
     },
     "execution_count": 6,
     "metadata": {},
     "output_type": "execute_result"
    }
   ],
   "source": [
    "# Year my name most popular\n",
    "\n",
    "df[df.name == 'Stephen'].groupby('year').n.sum().sort_values().tail(5)"
   ]
  },
  {
   "cell_type": "code",
   "execution_count": 12,
   "id": "08c1ec28",
   "metadata": {},
   "outputs": [
    {
     "name": "stderr",
     "output_type": "stream",
     "text": [
      "/var/folders/b2/3fdswr7x4v5fhdt54wpcfmdw0000gn/T/ipykernel_949/1070640372.py:5: SettingWithCopyWarning: \n",
      "A value is trying to be set on a copy of a slice from a DataFrame.\n",
      "Try using .loc[row_indexer,col_indexer] = value instead\n",
      "\n",
      "See the caveats in the documentation: https://pandas.pydata.org/pandas-docs/stable/user_guide/indexing.html#returning-a-view-versus-a-copy\n",
      "  df_85['rank'] = df_85.n.rank(ascending = False)\n"
     ]
    },
    {
     "data": {
      "text/html": [
       "<div>\n",
       "<style scoped>\n",
       "    .dataframe tbody tr th:only-of-type {\n",
       "        vertical-align: middle;\n",
       "    }\n",
       "\n",
       "    .dataframe tbody tr th {\n",
       "        vertical-align: top;\n",
       "    }\n",
       "\n",
       "    .dataframe thead th {\n",
       "        text-align: right;\n",
       "    }\n",
       "</style>\n",
       "<table border=\"1\" class=\"dataframe\">\n",
       "  <thead>\n",
       "    <tr style=\"text-align: right;\">\n",
       "      <th></th>\n",
       "      <th>year</th>\n",
       "      <th>sex</th>\n",
       "      <th>name</th>\n",
       "      <th>n</th>\n",
       "      <th>prop</th>\n",
       "      <th>rank</th>\n",
       "    </tr>\n",
       "  </thead>\n",
       "  <tbody>\n",
       "    <tr>\n",
       "      <th>962694</th>\n",
       "      <td>1985</td>\n",
       "      <td>F</td>\n",
       "      <td>Stephen</td>\n",
       "      <td>97</td>\n",
       "      <td>0.000053</td>\n",
       "      <td>2278.0</td>\n",
       "    </tr>\n",
       "    <tr>\n",
       "      <th>973870</th>\n",
       "      <td>1985</td>\n",
       "      <td>M</td>\n",
       "      <td>Stephen</td>\n",
       "      <td>12208</td>\n",
       "      <td>0.006346</td>\n",
       "      <td>61.0</td>\n",
       "    </tr>\n",
       "  </tbody>\n",
       "</table>\n",
       "</div>"
      ],
      "text/plain": [
       "        year sex     name      n      prop    rank\n",
       "962694  1985   F  Stephen     97  0.000053  2278.0\n",
       "973870  1985   M  Stephen  12208  0.006346    61.0"
      ]
     },
     "execution_count": 12,
     "metadata": {},
     "output_type": "execute_result"
    }
   ],
   "source": [
    "# - Where does your name rank for the year that you were born?\n",
    "\n",
    "\n",
    "df_85 = df[df.year == 1985]\n",
    "df_85['rank'] = df_85.n.rank(ascending = False)\n",
    "df_85[df_85.name == 'Stephen']"
   ]
  },
  {
   "cell_type": "code",
   "execution_count": 16,
   "id": "a25d9e45",
   "metadata": {},
   "outputs": [
    {
     "data": {
      "text/plain": [
       "(1960.0, 2020.0)"
      ]
     },
     "execution_count": 16,
     "metadata": {},
     "output_type": "execute_result"
    },
    {
     "data": {
      "image/png": "[encoded data removed]",
      "text/plain": [
       "<Figure size 1152x648 with 1 Axes>"
      ]
     },
     "metadata": {
      "needs_background": "light"
     },
     "output_type": "display_data"
    }
   ],
   "source": [
    "# - Does your name increase or decrease in popularity compared to the year after the year you were born? The year before? What about 5 years before/after?\n",
    "plt.figure(figsize=(16, 9))\n",
    "subset = df[df.name == 'Stephen']\n",
    "subset = subset.groupby('year').n.sum()\n",
    "plt.plot(subset.index, subset)\n",
    "plt.xlabel('Year')\n",
    "plt.ylabel('# of Births')\n",
    "plt.gca().yaxis.set_major_formatter('{:,.0f}'.format)\n",
    "plt.title('Popularity of the name Ryan over time')\n",
    "plt.xlim(1960, 2020)"
   ]
  },
  {
   "cell_type": "code",
   "execution_count": 24,
   "id": "ede0a2ea",
   "metadata": {},
   "outputs": [
    {
     "data": {
      "text/plain": [
       "<matplotlib.collections.LineCollection at 0x7fd666d09070>"
      ]
     },
     "execution_count": 24,
     "metadata": {},
     "output_type": "execute_result"
    },
    {
     "data": {
      "image/png": "[encoded data removed]",
      "text/plain": [
       "<Figure size 936x504 with 1 Axes>"
      ]
     },
     "metadata": {
      "needs_background": "light"
     },
     "output_type": "display_data"
    }
   ],
   "source": [
    "# - Visualize your name's popularity over time.\n",
    "\n",
    "plt.figure(figsize=(13, 7))\n",
    "subset = df[df.name == 'Stephen']\n",
    "subset = subset.groupby('year').n.sum()\n",
    "plt.plot(subset.index, subset)\n",
    "plt.xlabel('Year')\n",
    "plt.ylabel('# of Births')\n",
    "plt.gca().yaxis.set_major_formatter('{:,.0f}'.format)\n",
    "plt.title('Popularity of the name Ryan over time')\n",
    "plt.xlim(1900, 2022)\n",
    "plt.vlines(2015, 0, 30_000, color='black', ls=':')"
   ]
  },
  {
   "cell_type": "markdown",
   "id": "fedf4f6f",
   "metadata": {},
   "source": [
    "### Rank Function"
   ]
  },
  {
   "cell_type": "code",
   "execution_count": null,
   "id": "8e956a0c",
   "metadata": {},
   "outputs": [],
   "source": [
    "# Creating the Series\n",
    "sr = pd.Series([10, 25, 3, 11, 24, 6])\n",
    "  \n",
    "# Create the Index\n",
    "index_ = ['Coca Cola', 'Sprite', 'Coke', 'Fanta', 'Dew', 'ThumbsUp']\n",
    "  \n",
    "# set the index\n",
    "sr.index = index_\n",
    "  \n",
    "# Print the series\n",
    "print(sr)\n",
    "print()\n",
    "\n",
    "# assign rank (rank does the average of their mean)\n",
    "result = sr.rank()\n",
    "  \n",
    "# Print the result\n",
    "print(result)"
   ]
  }
 ],
 "metadata": {
  "kernelspec": {
   "display_name": "Python 3 (ipykernel)",
   "language": "python",
   "name": "python3"
  },
  "language_info": {
   "codemirror_mode": {
    "name": "ipython",
    "version": 3
   },
   "file_extension": ".py",
   "mimetype": "text/x-python",
   "name": "python",
   "nbconvert_exporter": "python",
   "pygments_lexer": "ipython3",
   "version": "3.9.7"
  }
 },
 "nbformat": 4,
 "nbformat_minor": 5
}
